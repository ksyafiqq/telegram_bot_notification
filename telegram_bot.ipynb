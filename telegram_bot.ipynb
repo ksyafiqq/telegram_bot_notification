{
 "cells": [
  {
   "cell_type": "code",
   "execution_count": null,
   "metadata": {},
   "outputs": [],
   "source": [
    "import requests"
   ]
  },
  {
   "cell_type": "markdown",
   "metadata": {},
   "source": [
    "## Insert your telegram token here\n",
    "\n",
    "P/S: Group chat id initiated with '-xxxxx'\n",
    "\n",
    "https://api.telegram.org/bot{TOKEN}/getUpdates\n",
    "\n",
    "Use the link above to get your user telegram id. Replace with your token then enter the url. You may retrieve your telegram private information such as telegram id, first name, user name and etc."
   ]
  },
  {
   "cell_type": "code",
   "execution_count": null,
   "metadata": {},
   "outputs": [],
   "source": [
    "# Telegram bot details\n",
    "TOKEN = \"xxxxxxxxxxxxxxxxxxx:yyyyyyyyyyyyyyyy\"  # Replace with your bot token\n",
    "chat_id = \"-xxxxxxxxxxxx\"  # Replace with your chat ID\n",
    "user_tele_id = \"xxxxxxxx\" # Replace with user ID\n"
   ]
  },
  {
   "cell_type": "code",
   "execution_count": null,
   "metadata": {},
   "outputs": [],
   "source": [
    "def get_telegram_username(user_id):\n",
    "    # You can send a simple message to get the user's interaction\n",
    "    # Constructing the URL for the Telegram API request\n",
    "    url = f\"https://api.telegram.org/bot{TOKEN}/sendMessage\"\n",
    "    \n",
    "    # Defining the payload to send a simple message\n",
    "    payload = {\n",
    "        'chat_id': user_id,\n",
    "        'text': \"Please interact with the bot to get your username\"\n",
    "    }\n",
    "\n",
    "    # Sending a message to get user interaction\n",
    "    response = requests.post(url, data=payload)\n",
    "\n",
    "    # If message was sent successfully, extract username\n",
    "    if response.status_code == 200:\n",
    "        # Now the user has interacted, you can extract the username\n",
    "        # This part assumes you already have the interaction in your bot\n",
    "        return response.json()[\"result\"][\"from\"][\"username\"]\n",
    "    else:\n",
    "        print(f\"Failed to send message. Status code: {response.status_code}, Response: {response.text}\")\n",
    "        return None"
   ]
  },
  {
   "cell_type": "code",
   "execution_count": null,
   "metadata": {},
   "outputs": [],
   "source": [
    "telegram_username = get_telegram_username(user_tele_id)"
   ]
  },
  {
   "cell_type": "code",
   "execution_count": null,
   "metadata": {},
   "outputs": [],
   "source": [
    "if telegram_username:\n",
    "    message = f\"Hi @{telegram_username}\"\n",
    "else:\n",
    "    message = f\"Cannot retrieve username\""
   ]
  },
  {
   "cell_type": "code",
   "execution_count": null,
   "metadata": {},
   "outputs": [],
   "source": [
    "url = f\"https://api.telegram.org/bot{TOKEN}/sendMessage\"\n",
    "payload = {\n",
    "    'chat_id': user_tele_id,\n",
    "    'text': message\n",
    "}"
   ]
  },
  {
   "cell_type": "code",
   "execution_count": null,
   "metadata": {},
   "outputs": [],
   "source": [
    "response = requests.post(url, data=payload)\n",
    "\n",
    "if response.status_code == 200:\n",
    "    print(\"Message sent successfully!\")\n",
    "else:\n",
    "    print(f\"Failed to send message. Status code: {response.status_code}, Response: {response.text}\")\n"
   ]
  }
 ],
 "metadata": {
  "language_info": {
   "name": "python"
  }
 },
 "nbformat": 4,
 "nbformat_minor": 2
}
