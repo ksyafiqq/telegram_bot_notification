{
 "cells": [
  {
   "cell_type": "code",
   "execution_count": 1,
   "id": "4514b88d",
   "metadata": {
    "execution": {
     "iopub.execute_input": "2024-09-19T07:32:09.421467Z",
     "iopub.status.busy": "2024-09-19T07:32:09.421043Z",
     "iopub.status.idle": "2024-09-19T07:32:09.498417Z",
     "shell.execute_reply": "2024-09-19T07:32:09.497589Z"
    },
    "papermill": {
     "duration": 0.083969,
     "end_time": "2024-09-19T07:32:09.500749",
     "exception": false,
     "start_time": "2024-09-19T07:32:09.416780",
     "status": "completed"
    },
    "tags": []
   },
   "outputs": [],
   "source": [
    "import requests"
   ]
  },
  {
   "cell_type": "markdown",
   "id": "2f44167f",
   "metadata": {
    "papermill": {
     "duration": 0.001979,
     "end_time": "2024-09-19T07:32:09.505323",
     "exception": false,
     "start_time": "2024-09-19T07:32:09.503344",
     "status": "completed"
    },
    "tags": []
   },
   "source": [
    "## Insert your telegram token here\n",
    "\n",
    "P/S: Group chat id initiated with '-xxxxx'\n",
    "\n",
    "https://api.telegram.org/bot{TOKEN}/getUpdates\n",
    "\n",
    "Use the link above to get your user telegram id. Replace with your token then enter the url. You may retrieve your telegram private information such as telegram id, first name, user name and etc."
   ]
  },
  {
   "cell_type": "code",
   "execution_count": 2,
   "id": "8c2e4d1b",
   "metadata": {
    "execution": {
     "iopub.execute_input": "2024-09-19T07:32:09.510959Z",
     "iopub.status.busy": "2024-09-19T07:32:09.510602Z",
     "iopub.status.idle": "2024-09-19T07:32:09.515020Z",
     "shell.execute_reply": "2024-09-19T07:32:09.514101Z"
    },
    "papermill": {
     "duration": 0.009439,
     "end_time": "2024-09-19T07:32:09.516857",
     "exception": false,
     "start_time": "2024-09-19T07:32:09.507418",
     "status": "completed"
    },
    "tags": []
   },
   "outputs": [],
   "source": [
    "# Telegram bot details\n",
    "TOKEN = \"xxxxxxxxxxxxxxxxxxx:yyyyyyyyyyyyyyyy\"  # Replace with your bot token\n",
    "chat_id = \"-xxxxxxxxxxxx\"  # Replace with your chat ID\n",
    "user_tele_id = \"xxxxxxxx\" # Replace with user ID\n"
   ]
  },
  {
   "cell_type": "code",
   "execution_count": 3,
   "id": "0cec2277",
   "metadata": {
    "execution": {
     "iopub.execute_input": "2024-09-19T07:32:09.522576Z",
     "iopub.status.busy": "2024-09-19T07:32:09.522259Z",
     "iopub.status.idle": "2024-09-19T07:32:09.528281Z",
     "shell.execute_reply": "2024-09-19T07:32:09.527393Z"
    },
    "papermill": {
     "duration": 0.011093,
     "end_time": "2024-09-19T07:32:09.530191",
     "exception": false,
     "start_time": "2024-09-19T07:32:09.519098",
     "status": "completed"
    },
    "tags": []
   },
   "outputs": [],
   "source": [
    "def get_telegram_username(user_id):\n",
    "    # You can send a simple message to get the user's interaction\n",
    "    # Constructing the URL for the Telegram API request\n",
    "    url = f\"https://api.telegram.org/bot{TOKEN}/sendMessage\"\n",
    "    \n",
    "    # Defining the payload to send a simple message\n",
    "    payload = {\n",
    "        'chat_id': user_id,\n",
    "        'text': \"Please interact with the bot to get your username\"\n",
    "    }\n",
    "\n",
    "    # Sending a message to get user interaction\n",
    "    response = requests.post(url, data=payload)\n",
    "\n",
    "    # If message was sent successfully, extract username\n",
    "    if response.status_code == 200:\n",
    "        # Now the user has interacted, you can extract the username\n",
    "        # This part assumes you already have the interaction in your bot\n",
    "        return response.json()[\"result\"][\"from\"][\"username\"]\n",
    "    else:\n",
    "        print(f\"Failed to send message. Status code: {response.status_code}, Response: {response.text}\")\n",
    "        return None"
   ]
  },
  {
   "cell_type": "code",
   "execution_count": 4,
   "id": "efb53966",
   "metadata": {
    "execution": {
     "iopub.execute_input": "2024-09-19T07:32:09.536151Z",
     "iopub.status.busy": "2024-09-19T07:32:09.535637Z",
     "iopub.status.idle": "2024-09-19T07:32:10.366595Z",
     "shell.execute_reply": "2024-09-19T07:32:10.365569Z"
    },
    "papermill": {
     "duration": 0.836797,
     "end_time": "2024-09-19T07:32:10.369287",
     "exception": false,
     "start_time": "2024-09-19T07:32:09.532490",
     "status": "completed"
    },
    "tags": []
   },
   "outputs": [
    {
     "name": "stdout",
     "output_type": "stream",
     "text": [
      "Failed to send message. Status code: 404, Response: {\"ok\":false,\"error_code\":404,\"description\":\"Not Found\"}\n"
     ]
    }
   ],
   "source": [
    "telegram_username = get_telegram_username(user_tele_id)"
   ]
  },
  {
   "cell_type": "code",
   "execution_count": 5,
   "id": "365c6f84",
   "metadata": {
    "execution": {
     "iopub.execute_input": "2024-09-19T07:32:10.376146Z",
     "iopub.status.busy": "2024-09-19T07:32:10.375484Z",
     "iopub.status.idle": "2024-09-19T07:32:10.379787Z",
     "shell.execute_reply": "2024-09-19T07:32:10.378878Z"
    },
    "papermill": {
     "duration": 0.009863,
     "end_time": "2024-09-19T07:32:10.381778",
     "exception": false,
     "start_time": "2024-09-19T07:32:10.371915",
     "status": "completed"
    },
    "tags": []
   },
   "outputs": [],
   "source": [
    "if telegram_username:\n",
    "    message = f\"Hi @{telegram_username}\"\n",
    "else:\n",
    "    message = f\"Cannot retrieve username\""
   ]
  },
  {
   "cell_type": "code",
   "execution_count": 6,
   "id": "588b0833",
   "metadata": {
    "execution": {
     "iopub.execute_input": "2024-09-19T07:32:10.388325Z",
     "iopub.status.busy": "2024-09-19T07:32:10.387775Z",
     "iopub.status.idle": "2024-09-19T07:32:10.392080Z",
     "shell.execute_reply": "2024-09-19T07:32:10.391245Z"
    },
    "papermill": {
     "duration": 0.009644,
     "end_time": "2024-09-19T07:32:10.393996",
     "exception": false,
     "start_time": "2024-09-19T07:32:10.384352",
     "status": "completed"
    },
    "tags": []
   },
   "outputs": [],
   "source": [
    "url = f\"https://api.telegram.org/bot{TOKEN}/sendMessage\"\n",
    "payload = {\n",
    "    'chat_id': user_tele_id,\n",
    "    'text': message\n",
    "}"
   ]
  },
  {
   "cell_type": "code",
   "execution_count": 7,
   "id": "4330629a",
   "metadata": {
    "execution": {
     "iopub.execute_input": "2024-09-19T07:32:10.400530Z",
     "iopub.status.busy": "2024-09-19T07:32:10.399908Z",
     "iopub.status.idle": "2024-09-19T07:32:11.230715Z",
     "shell.execute_reply": "2024-09-19T07:32:11.229721Z"
    },
    "papermill": {
     "duration": 0.836224,
     "end_time": "2024-09-19T07:32:11.232761",
     "exception": false,
     "start_time": "2024-09-19T07:32:10.396537",
     "status": "completed"
    },
    "tags": []
   },
   "outputs": [
    {
     "name": "stdout",
     "output_type": "stream",
     "text": [
      "Failed to send message. Status code: 404, Response: {\"ok\":false,\"error_code\":404,\"description\":\"Not Found\"}\n"
     ]
    }
   ],
   "source": [
    "response = requests.post(url, data=payload)\n",
    "\n",
    "if response.status_code == 200:\n",
    "    print(\"Message sent successfully!\")\n",
    "else:\n",
    "    print(f\"Failed to send message. Status code: {response.status_code}, Response: {response.text}\")\n"
   ]
  }
 ],
 "metadata": {
  "kaggle": {
   "accelerator": "none",
   "dataSources": [],
   "dockerImageVersionId": 30761,
   "isGpuEnabled": false,
   "isInternetEnabled": true,
   "language": "python",
   "sourceType": "notebook"
  },
  "kernelspec": {
   "display_name": "Python 3",
   "language": "python",
   "name": "python3"
  },
  "language_info": {
   "codemirror_mode": {
    "name": "ipython",
    "version": 3
   },
   "file_extension": ".py",
   "mimetype": "text/x-python",
   "name": "python",
   "nbconvert_exporter": "python",
   "pygments_lexer": "ipython3",
   "version": "3.10.14"
  },
  "papermill": {
   "default_parameters": {},
   "duration": 4.603605,
   "end_time": "2024-09-19T07:32:11.553933",
   "environment_variables": {},
   "exception": null,
   "input_path": "__notebook__.ipynb",
   "output_path": "__notebook__.ipynb",
   "parameters": {},
   "start_time": "2024-09-19T07:32:06.950328",
   "version": "2.6.0"
  }
 },
 "nbformat": 4,
 "nbformat_minor": 5
}
